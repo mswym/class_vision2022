{
  "nbformat": 4,
  "nbformat_minor": 0,
  "metadata": {
    "colab": {
      "name": "material_teaching.ipynb",
      "provenance": [],
      "collapsed_sections": []
    },
    "kernelspec": {
      "name": "python3",
      "display_name": "Python 3"
    },
    "language_info": {
      "name": "python"
    }
  },
  "cells": [
    {
      "cell_type": "code",
      "execution_count": null,
      "metadata": {
        "id": "SYw6Leh_yclf",
        "colab": {
          "base_uri": "https://localhost:8080/"
        },
        "outputId": "256ce8f2-77b3-4e9f-c3cb-fdc33cefeb5b"
      },
      "outputs": [
        {
          "output_type": "stream",
          "name": "stdout",
          "text": [
            "/\n",
            "Cloning into 'class_vision2022'...\n",
            "remote: Enumerating objects: 20, done.\u001b[K\n",
            "remote: Counting objects: 100% (20/20), done.\u001b[K\n",
            "remote: Compressing objects: 100% (17/17), done.\u001b[K\n",
            "remote: Total 20 (delta 0), reused 17 (delta 0), pack-reused 0\u001b[K\n",
            "Unpacking objects: 100% (20/20), done.\n",
            "/class_vision2022\n"
          ]
        }
      ],
      "source": [
        "%cd /content/\n",
        "\n",
        "# clone github repository\n",
        "!git clone https://github.com/mswym/class_vision2022.git\n",
        "%cd class_vision2022\n",
        "\n",
        "import numpy as np\n",
        "import cv2\n",
        "import matplotlib.pyplot as plt\n"
      ]
    },
    {
      "cell_type": "code",
      "source": [
        "!pwd"
      ],
      "metadata": {
        "id": "15ZzCvsiNFbE",
        "outputId": "7a9ed91f-9930-40ac-c89a-185685a36aba",
        "colab": {
          "base_uri": "https://localhost:8080/"
        }
      },
      "execution_count": null,
      "outputs": [
        {
          "output_type": "stream",
          "name": "stdout",
          "text": [
            "/content/material_dataset/class_vision2022/class_vision2022/class_vision2022\n"
          ]
        }
      ]
    },
    {
      "cell_type": "code",
      "source": [
        "#load input image\n",
        "\n",
        "fname_1 =  \n",
        "fname_2"
      ],
      "metadata": {
        "id": "ufXTucGaM5u1"
      },
      "execution_count": null,
      "outputs": []
    }
  ]
}